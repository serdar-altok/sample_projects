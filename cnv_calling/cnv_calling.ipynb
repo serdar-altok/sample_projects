{
 "cells": [
  {
   "cell_type": "markdown",
   "metadata": {},
   "source": [
    "### Problem Formulation"
   ]
  },
  {
   "cell_type": "markdown",
   "metadata": {},
   "source": [
    "## GOAL\n",
    " Identify deletion and duplication breakpoints in a particular gene in 3 ethnicities\n",
    "\n",
    "- A duplication is a region where the individual has more than 2 copies of dna\n",
    "- A deletion is a region where the individual has less than 2 copies of dna\n",
    "- A breakpoint is the last region before or first region after a series of deletions or duplications"
   ]
  },
  {
   "cell_type": "markdown",
   "metadata": {},
   "source": [
    "## How the measurements are done\n",
    "\n",
    "- Probes output the number of times dna is read by the probe at a certain region, called read-depth\n",
    "- The read-depth of a probe is (approximately) linear in the number of dna copies\n",
    "- Each probe has a different efficiency but has the same efficiency on all individuals\n",
    "- Each sample has a different average read-depth across all probes"
   ]
  },
  {
   "cell_type": "code",
   "execution_count": 44,
   "metadata": {},
   "outputs": [],
   "source": [
    "# import necessary libraries\n",
    "\n",
    "import pandas as pd\n",
    "import numpy as np\n",
    "from scipy.optimize import curve_fit\n",
    "\n",
    "import matplotlib.pyplot as plt\n",
    "import seaborn as sns"
   ]
  },
  {
   "cell_type": "markdown",
   "metadata": {},
   "source": [
    "## Load and explore data"
   ]
  },
  {
   "cell_type": "code",
   "execution_count": 45,
   "metadata": {},
   "outputs": [],
   "source": [
    "df = pd.read_csv('cnsl_data.csv', index_col=0)"
   ]
  },
  {
   "cell_type": "markdown",
   "metadata": {},
   "source": [
    "Check data for missing values"
   ]
  },
  {
   "cell_type": "code",
   "execution_count": 46,
   "metadata": {},
   "outputs": [
    {
     "data": {
      "text/plain": [
       "0"
      ]
     },
     "execution_count": 46,
     "metadata": {},
     "output_type": "execute_result"
    }
   ],
   "source": [
    "df.isna().sum().sum()"
   ]
  },
  {
   "cell_type": "markdown",
   "metadata": {},
   "source": [
    "Split the data into 3 parts: cnsl data, control data and ethnicity of the subjects"
   ]
  },
  {
   "cell_type": "code",
   "execution_count": 47,
   "metadata": {},
   "outputs": [],
   "source": [
    "cnsl_df = df.iloc[:,1:51]\n",
    "ctrl_df = df.iloc[:,51:]\n",
    "ethnicities = df.ethnicity"
   ]
  },
  {
   "cell_type": "code",
   "execution_count": 48,
   "metadata": {},
   "outputs": [
    {
     "data": {
      "text/html": [
       "<div>\n",
       "<style scoped>\n",
       "    .dataframe tbody tr th:only-of-type {\n",
       "        vertical-align: middle;\n",
       "    }\n",
       "\n",
       "    .dataframe tbody tr th {\n",
       "        vertical-align: top;\n",
       "    }\n",
       "\n",
       "    .dataframe thead th {\n",
       "        text-align: right;\n",
       "    }\n",
       "</style>\n",
       "<table border=\"1\" class=\"dataframe\">\n",
       "  <thead>\n",
       "    <tr style=\"text-align: right;\">\n",
       "      <th></th>\n",
       "      <th>CNSL_probe_0</th>\n",
       "      <th>CNSL_probe_1</th>\n",
       "      <th>CNSL_probe_2</th>\n",
       "      <th>CNSL_probe_3</th>\n",
       "      <th>CNSL_probe_4</th>\n",
       "      <th>CNSL_probe_5</th>\n",
       "      <th>CNSL_probe_6</th>\n",
       "      <th>CNSL_probe_7</th>\n",
       "      <th>CNSL_probe_8</th>\n",
       "      <th>CNSL_probe_9</th>\n",
       "      <th>...</th>\n",
       "      <th>CNSL_probe_40</th>\n",
       "      <th>CNSL_probe_41</th>\n",
       "      <th>CNSL_probe_42</th>\n",
       "      <th>CNSL_probe_43</th>\n",
       "      <th>CNSL_probe_44</th>\n",
       "      <th>CNSL_probe_45</th>\n",
       "      <th>CNSL_probe_46</th>\n",
       "      <th>CNSL_probe_47</th>\n",
       "      <th>CNSL_probe_48</th>\n",
       "      <th>CNSL_probe_49</th>\n",
       "    </tr>\n",
       "  </thead>\n",
       "  <tbody>\n",
       "    <tr>\n",
       "      <th>0</th>\n",
       "      <td>410</td>\n",
       "      <td>233</td>\n",
       "      <td>697</td>\n",
       "      <td>167</td>\n",
       "      <td>131</td>\n",
       "      <td>77</td>\n",
       "      <td>520</td>\n",
       "      <td>132</td>\n",
       "      <td>161</td>\n",
       "      <td>555</td>\n",
       "      <td>...</td>\n",
       "      <td>409.0</td>\n",
       "      <td>465</td>\n",
       "      <td>130</td>\n",
       "      <td>188</td>\n",
       "      <td>175</td>\n",
       "      <td>215</td>\n",
       "      <td>503</td>\n",
       "      <td>122</td>\n",
       "      <td>352</td>\n",
       "      <td>202</td>\n",
       "    </tr>\n",
       "    <tr>\n",
       "      <th>1</th>\n",
       "      <td>557</td>\n",
       "      <td>304</td>\n",
       "      <td>956</td>\n",
       "      <td>208</td>\n",
       "      <td>138</td>\n",
       "      <td>106</td>\n",
       "      <td>678</td>\n",
       "      <td>173</td>\n",
       "      <td>218</td>\n",
       "      <td>718</td>\n",
       "      <td>...</td>\n",
       "      <td>580.0</td>\n",
       "      <td>624</td>\n",
       "      <td>179</td>\n",
       "      <td>238</td>\n",
       "      <td>225</td>\n",
       "      <td>300</td>\n",
       "      <td>532</td>\n",
       "      <td>183</td>\n",
       "      <td>485</td>\n",
       "      <td>250</td>\n",
       "    </tr>\n",
       "    <tr>\n",
       "      <th>2</th>\n",
       "      <td>487</td>\n",
       "      <td>260</td>\n",
       "      <td>861</td>\n",
       "      <td>194</td>\n",
       "      <td>148</td>\n",
       "      <td>94</td>\n",
       "      <td>617</td>\n",
       "      <td>191</td>\n",
       "      <td>205</td>\n",
       "      <td>693</td>\n",
       "      <td>...</td>\n",
       "      <td>586.0</td>\n",
       "      <td>589</td>\n",
       "      <td>197</td>\n",
       "      <td>243</td>\n",
       "      <td>213</td>\n",
       "      <td>261</td>\n",
       "      <td>534</td>\n",
       "      <td>166</td>\n",
       "      <td>523</td>\n",
       "      <td>265</td>\n",
       "    </tr>\n",
       "    <tr>\n",
       "      <th>3</th>\n",
       "      <td>686</td>\n",
       "      <td>368</td>\n",
       "      <td>1276</td>\n",
       "      <td>267</td>\n",
       "      <td>221</td>\n",
       "      <td>1114</td>\n",
       "      <td>884</td>\n",
       "      <td>206</td>\n",
       "      <td>273</td>\n",
       "      <td>830</td>\n",
       "      <td>...</td>\n",
       "      <td>729.0</td>\n",
       "      <td>858</td>\n",
       "      <td>234</td>\n",
       "      <td>313</td>\n",
       "      <td>317</td>\n",
       "      <td>341</td>\n",
       "      <td>1099</td>\n",
       "      <td>205</td>\n",
       "      <td>675</td>\n",
       "      <td>328</td>\n",
       "    </tr>\n",
       "    <tr>\n",
       "      <th>4</th>\n",
       "      <td>677</td>\n",
       "      <td>348</td>\n",
       "      <td>1248</td>\n",
       "      <td>267</td>\n",
       "      <td>179</td>\n",
       "      <td>268</td>\n",
       "      <td>856</td>\n",
       "      <td>225</td>\n",
       "      <td>305</td>\n",
       "      <td>843</td>\n",
       "      <td>...</td>\n",
       "      <td>757.0</td>\n",
       "      <td>742</td>\n",
       "      <td>271</td>\n",
       "      <td>345</td>\n",
       "      <td>302</td>\n",
       "      <td>414</td>\n",
       "      <td>736</td>\n",
       "      <td>225</td>\n",
       "      <td>586</td>\n",
       "      <td>354</td>\n",
       "    </tr>\n",
       "  </tbody>\n",
       "</table>\n",
       "<p>5 rows × 50 columns</p>\n",
       "</div>"
      ],
      "text/plain": [
       "   CNSL_probe_0  CNSL_probe_1  CNSL_probe_2  CNSL_probe_3  CNSL_probe_4  \\\n",
       "0           410           233           697           167           131   \n",
       "1           557           304           956           208           138   \n",
       "2           487           260           861           194           148   \n",
       "3           686           368          1276           267           221   \n",
       "4           677           348          1248           267           179   \n",
       "\n",
       "   CNSL_probe_5  CNSL_probe_6  CNSL_probe_7  CNSL_probe_8  CNSL_probe_9  ...  \\\n",
       "0            77           520           132           161           555  ...   \n",
       "1           106           678           173           218           718  ...   \n",
       "2            94           617           191           205           693  ...   \n",
       "3          1114           884           206           273           830  ...   \n",
       "4           268           856           225           305           843  ...   \n",
       "\n",
       "   CNSL_probe_40  CNSL_probe_41  CNSL_probe_42  CNSL_probe_43  CNSL_probe_44  \\\n",
       "0          409.0            465            130            188            175   \n",
       "1          580.0            624            179            238            225   \n",
       "2          586.0            589            197            243            213   \n",
       "3          729.0            858            234            313            317   \n",
       "4          757.0            742            271            345            302   \n",
       "\n",
       "   CNSL_probe_45  CNSL_probe_46  CNSL_probe_47  CNSL_probe_48  CNSL_probe_49  \n",
       "0            215            503            122            352            202  \n",
       "1            300            532            183            485            250  \n",
       "2            261            534            166            523            265  \n",
       "3            341           1099            205            675            328  \n",
       "4            414            736            225            586            354  \n",
       "\n",
       "[5 rows x 50 columns]"
      ]
     },
     "execution_count": 48,
     "metadata": {},
     "output_type": "execute_result"
    }
   ],
   "source": [
    "cnsl_df.head()"
   ]
  },
  {
   "cell_type": "code",
   "execution_count": 49,
   "metadata": {},
   "outputs": [
    {
     "data": {
      "text/plain": [
       "ethnicity\n",
       "A    4988\n",
       "B    2543\n",
       "C    2469\n",
       "Name: count, dtype: int64"
      ]
     },
     "execution_count": 49,
     "metadata": {},
     "output_type": "execute_result"
    }
   ],
   "source": [
    "ethnicity_counts = ethnicities.value_counts()\n",
    "ethnicity_counts"
   ]
  },
  {
   "cell_type": "markdown",
   "metadata": {},
   "source": [
    "The main idea behind my cnv calling method is that a given subject will have similar read-depths on probes with similar efficiency. \n",
    "\n",
    " 1) Use mean read-depths of probes to estimate the efficiencies of the probes\n",
    " 2) Determine the linear relationship between mean read-depth of probes and read-depths on each individual(this will account for the efficiency of each individual)\n",
    " 3) Use mean read-depth of probes from the control group and the linear functions fitted in the previous step to estimate expected read-depths for each individual.\n"
   ]
  },
  {
   "cell_type": "code",
   "execution_count": 50,
   "metadata": {},
   "outputs": [],
   "source": [
    "ctrl_mean_probe_depth = ctrl_df.mean(axis=0) \n",
    "cnsl_mean_probe_depth = cnsl_df.mean()"
   ]
  },
  {
   "cell_type": "markdown",
   "metadata": {},
   "source": [
    "Plot to visualize read depth range in the control group and how it changes with mean probe read-depth"
   ]
  },
  {
   "cell_type": "code",
   "execution_count": 51,
   "metadata": {},
   "outputs": [
    {
     "data": {
      "text/plain": [
       "Text(0, 0.5, 'read-depth')"
      ]
     },
     "execution_count": 51,
     "metadata": {},
     "output_type": "execute_result"
    },
    {
     "data": {
      "image/png": "[encoded data removed]",
      "text/plain": [
       "<Figure size 640x480 with 1 Axes>"
      ]
     },
     "metadata": {},
     "output_type": "display_data"
    }
   ],
   "source": [
    "\n",
    "min_values = ctrl_df.min()  \n",
    "max_values = ctrl_df.max()\n",
    "\n",
    "plt.scatter(ctrl_mean_probe_depth, min_values, s=5, label='min read-depth of a probe')\n",
    "plt.scatter(ctrl_mean_probe_depth, max_values, s=5, label='max read-depth of a probe')\n",
    "plt.scatter(ctrl_mean_probe_depth, ctrl_mean_probe_depth, s=5, label='mean read depth of a probe')\n",
    "plt.legend()\n",
    "plt.xlabel('mean probe read-depth')\n",
    "plt.ylabel('read-depth')\n"
   ]
  },
  {
   "cell_type": "markdown",
   "metadata": {},
   "source": [
    "Plot to compare the read depths of the first subject"
   ]
  },
  {
   "cell_type": "code",
   "execution_count": 52,
   "metadata": {},
   "outputs": [
    {
     "data": {
      "text/plain": [
       "<matplotlib.legend.Legend at 0x12ca929b0>"
      ]
     },
     "execution_count": 52,
     "metadata": {},
     "output_type": "execute_result"
    },
    {
     "data": {
      "image/png": "[encoded data removed]",
      "text/plain": [
       "<Figure size 600x600 with 1 Axes>"
      ]
     },
     "metadata": {},
     "output_type": "display_data"
    }
   ],
   "source": [
    "plt.figure(figsize=(6,6))\n",
    "j = 0\n",
    "\n",
    "plt.scatter(ctrl_mean_probe_depth, ctrl_df.iloc[j,:], s=8, label='control probes')\n",
    "plt.scatter(cnsl_mean_probe_depth, cnsl_df.iloc[j,:], s=8, color='red', label='cnsl probes')\n",
    "\n",
    "plt.xlabel('Mean probe read-depth')\n",
    "plt.ylabel('probe read-depth')\n",
    "plt.title('read-depths of subject 0')\n",
    "plt.legend()"
   ]
  },
  {
   "cell_type": "markdown",
   "metadata": {},
   "source": [
    "Same plot for the subject 24 who has a number of duplications"
   ]
  },
  {
   "cell_type": "code",
   "execution_count": 53,
   "metadata": {},
   "outputs": [
    {
     "data": {
      "text/plain": [
       "<matplotlib.legend.Legend at 0x12be0e080>"
      ]
     },
     "execution_count": 53,
     "metadata": {},
     "output_type": "execute_result"
    },
    {
     "data": {
      "image/png": "[encoded data removed]",
      "text/plain": [
       "<Figure size 600x600 with 1 Axes>"
      ]
     },
     "metadata": {},
     "output_type": "display_data"
    }
   ],
   "source": [
    "plt.figure(figsize=(6,6))\n",
    "j = 24\n",
    "\n",
    "plt.scatter(ctrl_mean_probe_depth, ctrl_df.iloc[j,:], s=8, label='control probes')\n",
    "plt.scatter(cnsl_mean_probe_depth, cnsl_df.iloc[j,:], s=8, color='red', label='cnsl probes')\n",
    "\n",
    "plt.xlabel('Mean probe read-depth')\n",
    "plt.ylabel('probe read-depth')\n",
    "plt.title('read-depths of subject 24')\n",
    "plt.legend()"
   ]
  },
  {
   "cell_type": "code",
   "execution_count": 54,
   "metadata": {},
   "outputs": [
    {
     "data": {
      "image/png": "[encoded data removed]",
      "text/plain": [
       "<Figure size 1500x500 with 3 Axes>"
      ]
     },
     "metadata": {},
     "output_type": "display_data"
    }
   ],
   "source": [
    "fig, axs = plt.subplots(1, 3, figsize=(15, 5)) \n",
    "\n",
    "# Plot scatterplots on each subplot\n",
    "axs[0].scatter(ctrl_mean_probe_depth, ctrl_df.iloc[0,:], s=8, label='control probes')\n",
    "axs[0].scatter(cnsl_mean_probe_depth, cnsl_df.iloc[0,:], s=8, color='red', label='cnsl probes')\n",
    "axs[1].scatter(ctrl_mean_probe_depth, ctrl_df.iloc[24,:], s=8, label='control probes')\n",
    "axs[1].scatter(cnsl_mean_probe_depth, cnsl_df.iloc[24,:], s=8, color='red', label='cnsl probes')\n",
    "axs[2].scatter(ctrl_mean_probe_depth, ctrl_df.iloc[1154,:], s=8, label='control probes')\n",
    "axs[2].scatter(cnsl_mean_probe_depth, cnsl_df.iloc[1154,:], s=8, color='red', label='cnsl probes')\n",
    "\n",
    "\n",
    "# Set titles and labels\n",
    "fig.suptitle('Comparison of probe depths in the control and cnsl groups', fontsize=16, fontweight='bold', fontfamily='serif', color='black')\n",
    "\n",
    "axs[0].set_title('Subject 0 \\n almost all probes copy number 2')\n",
    "axs[0].set_xlabel('mean probe read-depth')\n",
    "axs[0].legend()\n",
    "\n",
    "axs[1].set_title('Subject 24 \\n many probes with copy number 3')\n",
    "axs[1].set_xlabel('mean probe read-depth')\n",
    "axs[1].legend()\n",
    "\n",
    "axs[2].set_title('Subject 1154 \\n many probes with copy number 1')\n",
    "axs[2].set_xlabel('mean probe read-depth')\n",
    "axs[2].legend()\n",
    "\n",
    "fig.tight_layout()"
   ]
  },
  {
   "cell_type": "markdown",
   "metadata": {},
   "source": [
    "## Estimation of probe read-depths using the control group"
   ]
  },
  {
   "cell_type": "code",
   "execution_count": 55,
   "metadata": {},
   "outputs": [],
   "source": [
    "# for each subject fit a line to read-depths in the control group\n",
    "# use the line to estimate the expected depths in the test group\n",
    "\n",
    "cnsl_expected_depth_df = cnsl_df.copy().astype(float)\n",
    "param_coef = [0]*10000\n",
    "param_var = [0]*10000\n",
    "\n",
    "def lin_fit(x, a):\n",
    "    return a*x\n",
    "\n",
    "for i in range(10000):\n",
    "    param_coef[i], param_var[i] = curve_fit(lin_fit, ctrl_mean_probe_depth, ctrl_df.iloc[i,:])\n",
    "    cnsl_expected_depth_df.iloc[i,:] = param_coef[i]*cnsl_mean_probe_depth\n",
    "    "
   ]
  },
  {
   "cell_type": "markdown",
   "metadata": {},
   "source": [
    "## Call variants on the test group"
   ]
  },
  {
   "cell_type": "code",
   "execution_count": 56,
   "metadata": {},
   "outputs": [],
   "source": [
    "# Use multipliers to decide how much probe depths differ from expected depths and classify them\n",
    "\n",
    "cnsl_multipliers = cnsl_df/cnsl_expected_depth_df\n",
    "\n",
    "def call_variants(x):\n",
    "    if x > 2:\n",
    "        return 4\n",
    "    elif x > 1.2:\n",
    "        return 3\n",
    "    elif x > .7:\n",
    "        return 2\n",
    "    elif x > .2:\n",
    "        return 1\n",
    "    else:\n",
    "        return 0\n",
    "\n",
    "cnsl_cnv = cnsl_multipliers.apply(lambda x:x.apply(call_variants), axis=1)"
   ]
  },
  {
   "cell_type": "markdown",
   "metadata": {},
   "source": [
    "## Inspection of cnvs called"
   ]
  },
  {
   "cell_type": "markdown",
   "metadata": {},
   "source": [
    "Check for 0 read depths in the cnsl group"
   ]
  },
  {
   "cell_type": "code",
   "execution_count": 57,
   "metadata": {},
   "outputs": [
    {
     "data": {
      "text/plain": [
       "CNSL_probe_5    76\n",
       "dtype: int64"
      ]
     },
     "execution_count": 57,
     "metadata": {},
     "output_type": "execute_result"
    }
   ],
   "source": [
    "cnsl_zero = (cnsl_df == 0).sum()\n",
    "cnsl_zero = cnsl_zero[cnsl_zero > 0]\n",
    "cnsl_zero"
   ]
  },
  {
   "cell_type": "markdown",
   "metadata": {},
   "source": [
    "Check the number of 2 cnv called on probes in the cnsl group  "
   ]
  },
  {
   "cell_type": "code",
   "execution_count": 58,
   "metadata": {},
   "outputs": [
    {
     "data": {
      "text/plain": [
       "CNSL_probe_5     1978\n",
       "CNSL_probe_46    3796\n",
       "CNSL_probe_23    3882\n",
       "CNSL_probe_32    9501\n",
       "CNSL_probe_34    9523\n",
       "dtype: int64"
      ]
     },
     "execution_count": 58,
     "metadata": {},
     "output_type": "execute_result"
    }
   ],
   "source": [
    "(cnsl_cnv == 2).sum(axis=0).sort_values(ascending=True).head()"
   ]
  },
  {
   "cell_type": "markdown",
   "metadata": {},
   "source": [
    "Check for 0 and 4 cnv"
   ]
  },
  {
   "cell_type": "code",
   "execution_count": 59,
   "metadata": {},
   "outputs": [
    {
     "data": {
      "text/plain": [
       "CNSL_probe_5     3274\n",
       "CNSL_probe_46     622\n",
       "CNSL_probe_23     584\n",
       "CNSL_probe_0        0\n",
       "CNSL_probe_37       0\n",
       "dtype: int64"
      ]
     },
     "execution_count": 59,
     "metadata": {},
     "output_type": "execute_result"
    }
   ],
   "source": [
    "((cnsl_cnv == 0) | (cnsl_cnv==4)).sum(axis=0).sort_values(ascending=False).head()"
   ]
  },
  {
   "cell_type": "markdown",
   "metadata": {},
   "source": [
    "Probes 5, 23 and 46 doesn not function correctly. They report too few 2 cnv and too many 0 and 4. Remove them from data"
   ]
  },
  {
   "cell_type": "code",
   "execution_count": 60,
   "metadata": {},
   "outputs": [],
   "source": [
    "cnsl_cnv = cnsl_cnv.drop(['CNSL_probe_5','CNSL_probe_23','CNSL_probe_46'], axis=1)"
   ]
  },
  {
   "cell_type": "markdown",
   "metadata": {},
   "source": [
    "## Find the indexes of the subjects that have a potential deletion or duplication"
   ]
  },
  {
   "cell_type": "code",
   "execution_count": 61,
   "metadata": {},
   "outputs": [],
   "source": [
    "del_dup_ids = ((cnsl_cnv != 2).sum(axis=1) >3)\n",
    "del_dup_ids = del_dup_ids[del_dup_ids].index"
   ]
  },
  {
   "cell_type": "code",
   "execution_count": 62,
   "metadata": {},
   "outputs": [
    {
     "data": {
      "text/plain": [
       "Index([  24,   31,   35,   47,   58,   93,  140,  163,  234,  238,\n",
       "       ...\n",
       "       9756, 9827, 9844, 9850, 9883, 9887, 9903, 9926, 9968, 9970],\n",
       "      dtype='int64', length=477)"
      ]
     },
     "execution_count": 62,
     "metadata": {},
     "output_type": "execute_result"
    }
   ],
   "source": [
    "del_dup_ids"
   ]
  },
  {
   "cell_type": "code",
   "execution_count": 63,
   "metadata": {},
   "outputs": [],
   "source": [
    "# write the calls to file \n",
    "cnsl_cnv.to_csv('cnsl_cnv_calls.csv')"
   ]
  },
  {
   "cell_type": "code",
   "execution_count": 64,
   "metadata": {},
   "outputs": [],
   "source": [
    "# subjects with potential deletions or duplications\n",
    "\n",
    "cnsl_calls = cnsl_cnv.iloc[del_dup_ids,:]"
   ]
  },
  {
   "cell_type": "code",
   "execution_count": 65,
   "metadata": {},
   "outputs": [
    {
     "data": {
      "text/plain": [
       "0     141\n",
       "20    118\n",
       "30     58\n",
       "7      57\n",
       "8      54\n",
       "9      12\n",
       "21     11\n",
       "1      10\n",
       "31      7\n",
       "29      4\n",
       "22      2\n",
       "2       1\n",
       "19      1\n",
       "6       1\n",
       "Name: count, dtype: int64"
      ]
     },
     "execution_count": 65,
     "metadata": {},
     "output_type": "execute_result"
    }
   ],
   "source": [
    "# Number of subjects with a duplications\n",
    "\n",
    "(cnsl_calls == 3).sum(axis=1).value_counts()"
   ]
  },
  {
   "cell_type": "code",
   "execution_count": 66,
   "metadata": {},
   "outputs": [
    {
     "data": {
      "text/plain": [
       "0     325\n",
       "8      56\n",
       "7      56\n",
       "20     26\n",
       "30     14\n",
       "Name: count, dtype: int64"
      ]
     },
     "execution_count": 66,
     "metadata": {},
     "output_type": "execute_result"
    }
   ],
   "source": [
    "# Number of subjects with deletions\n",
    "\n",
    "(cnsl_calls == 1).sum(axis=1).value_counts()"
   ]
  },
  {
   "cell_type": "markdown",
   "metadata": {},
   "source": [
    "Find the individuals with deletions or duplications known in the literature"
   ]
  },
  {
   "cell_type": "code",
   "execution_count": 67,
   "metadata": {},
   "outputs": [],
   "source": [
    "brk_10_40_del = (cnsl_calls.iloc[:,8:40] == [2]+[1]*30+[2]).sum(axis=1) == 32\n",
    "brk_10_40_del = brk_10_40_del.index[brk_10_40_del]\n",
    "\n",
    "brk_10_40_dup = (cnsl_calls.iloc[:,8:40] == [2]+[3]*30+[2]).sum(axis=1) == 32\n",
    "brk_10_40_dup = brk_10_40_dup.index[brk_10_40_dup]\n",
    "\n",
    "brk_20_40_del = (cnsl_calls.iloc[:,18:40] == [2]+[1]*20+[2]).sum(axis=1) == 22\n",
    "brk_20_40_del = brk_20_40_del.index[brk_20_40_del]\n",
    "\n",
    "brk_20_40_dup = (cnsl_calls.iloc[:,18:40] == [2]+[3]*20+[2]).sum(axis=1) == 22\n",
    "brk_20_40_dup = brk_20_40_dup.index[brk_20_40_dup]\n",
    "\n",
    "brk_27_34_del = (cnsl_calls.iloc[:,24:34] == [2]+[1]*8+[2]).sum(axis=1) == 10\n",
    "brk_27_34_del = brk_27_34_del.index[brk_27_34_del]\n",
    "\n",
    "brk_27_34_dup = (cnsl_calls.iloc[:,24:34] == [2]+[3]*8+[2]).sum(axis=1) == 10\n",
    "brk_27_34_dup = brk_27_34_dup.index[brk_27_34_dup]\n",
    "\n",
    "brk_32_38_del = (cnsl_calls.iloc[:,29:38] == [2]+[1]*7+[2]).sum(axis=1) == 9\n",
    "brk_32_38_del = brk_32_38_del.index[brk_32_38_del]\n",
    "\n",
    "brk_32_38_dup = (cnsl_calls.iloc[:,29:38] == [2]+[3]*7+[2]).sum(axis=1) == 9\n",
    "brk_32_38_dup = brk_32_38_dup.index[brk_32_38_dup]\n"
   ]
  },
  {
   "cell_type": "code",
   "execution_count": 68,
   "metadata": {},
   "outputs": [],
   "source": [
    "# record the new results\n",
    "\n",
    "del_10_40_df = pd.DataFrame({'ethnicity':ethnicities[brk_10_40_del], 'break_points': '10-40', 'type':'deletion'})\n",
    "dup_10_40_df = pd.DataFrame({'ethnicity':ethnicities[brk_10_40_dup], 'break_points': '10-40', 'type':'duplication'})\n",
    "del_20_40_df = pd.DataFrame({'ethnicity':ethnicities[brk_20_40_del], 'break_points': '20-40', 'type':'deletion'})\n",
    "dup_20_40_df = pd.DataFrame({'ethnicity':ethnicities[brk_20_40_dup], 'break_points': '20-40', 'type':'duplication'})\n",
    "del_27_34_df = pd.DataFrame({'ethnicity':ethnicities[brk_27_34_del], 'break_points': '27-34', 'type':'deletion'})\n",
    "dup_27_34_df = pd.DataFrame({'ethnicity':ethnicities[brk_27_34_dup], 'break_points': '27-34', 'type':'duplication'})\n",
    "del_32_38_df = pd.DataFrame({'ethnicity':ethnicities[brk_32_38_del], 'break_points': '32-38', 'type':'deletion'})\n",
    "dup_32_38_df = pd.DataFrame({'ethnicity':ethnicities[brk_32_38_dup], 'break_points': '32-38', 'type':'duplication'})\n"
   ]
  },
  {
   "cell_type": "code",
   "execution_count": 69,
   "metadata": {},
   "outputs": [],
   "source": [
    "# combine the results into one dataframe\n",
    "\n",
    "results_df = pd.concat([del_10_40_df, dup_10_40_df, del_20_40_df, dup_20_40_df, del_27_34_df, dup_27_34_df, del_32_38_df, dup_32_38_df], axis=0)"
   ]
  },
  {
   "cell_type": "markdown",
   "metadata": {},
   "source": [
    "Summarize results"
   ]
  },
  {
   "cell_type": "code",
   "execution_count": 70,
   "metadata": {},
   "outputs": [
    {
     "data": {
      "text/html": [
       "<div>\n",
       "<style scoped>\n",
       "    .dataframe tbody tr th:only-of-type {\n",
       "        vertical-align: middle;\n",
       "    }\n",
       "\n",
       "    .dataframe tbody tr th {\n",
       "        vertical-align: top;\n",
       "    }\n",
       "\n",
       "    .dataframe thead th {\n",
       "        text-align: right;\n",
       "    }\n",
       "</style>\n",
       "<table border=\"1\" class=\"dataframe\">\n",
       "  <thead>\n",
       "    <tr style=\"text-align: right;\">\n",
       "      <th></th>\n",
       "      <th>ethnicity</th>\n",
       "      <th>break_points</th>\n",
       "      <th>type</th>\n",
       "      <th>count</th>\n",
       "    </tr>\n",
       "  </thead>\n",
       "  <tbody>\n",
       "    <tr>\n",
       "      <th>0</th>\n",
       "      <td>A</td>\n",
       "      <td>27-34</td>\n",
       "      <td>deletion</td>\n",
       "      <td>55</td>\n",
       "    </tr>\n",
       "    <tr>\n",
       "      <th>1</th>\n",
       "      <td>A</td>\n",
       "      <td>27-34</td>\n",
       "      <td>duplication</td>\n",
       "      <td>60</td>\n",
       "    </tr>\n",
       "    <tr>\n",
       "      <th>2</th>\n",
       "      <td>A</td>\n",
       "      <td>32-38</td>\n",
       "      <td>deletion</td>\n",
       "      <td>57</td>\n",
       "    </tr>\n",
       "    <tr>\n",
       "      <th>3</th>\n",
       "      <td>A</td>\n",
       "      <td>32-38</td>\n",
       "      <td>duplication</td>\n",
       "      <td>62</td>\n",
       "    </tr>\n",
       "    <tr>\n",
       "      <th>4</th>\n",
       "      <td>B</td>\n",
       "      <td>20-40</td>\n",
       "      <td>deletion</td>\n",
       "      <td>26</td>\n",
       "    </tr>\n",
       "    <tr>\n",
       "      <th>5</th>\n",
       "      <td>B</td>\n",
       "      <td>20-40</td>\n",
       "      <td>duplication</td>\n",
       "      <td>131</td>\n",
       "    </tr>\n",
       "    <tr>\n",
       "      <th>6</th>\n",
       "      <td>C</td>\n",
       "      <td>10-40</td>\n",
       "      <td>deletion</td>\n",
       "      <td>14</td>\n",
       "    </tr>\n",
       "    <tr>\n",
       "      <th>7</th>\n",
       "      <td>C</td>\n",
       "      <td>10-40</td>\n",
       "      <td>duplication</td>\n",
       "      <td>65</td>\n",
       "    </tr>\n",
       "  </tbody>\n",
       "</table>\n",
       "</div>"
      ],
      "text/plain": [
       "  ethnicity break_points         type  count\n",
       "0         A        27-34     deletion     55\n",
       "1         A        27-34  duplication     60\n",
       "2         A        32-38     deletion     57\n",
       "3         A        32-38  duplication     62\n",
       "4         B        20-40     deletion     26\n",
       "5         B        20-40  duplication    131\n",
       "6         C        10-40     deletion     14\n",
       "7         C        10-40  duplication     65"
      ]
     },
     "execution_count": 70,
     "metadata": {},
     "output_type": "execute_result"
    }
   ],
   "source": [
    "results_summary_df = results_df.groupby(['ethnicity','break_points','type']).agg(count=('ethnicity', 'count')).reset_index()\n",
    "results_summary_df"
   ]
  },
  {
   "cell_type": "markdown",
   "metadata": {},
   "source": [
    "## Identify the subjects that have deletions or duplications that do not fit the hard coded break points"
   ]
  },
  {
   "cell_type": "code",
   "execution_count": 71,
   "metadata": {},
   "outputs": [
    {
     "data": {
      "text/plain": [
       "[2791, 3513, 5259, 6169, 6626, 8424, 9263]"
      ]
     },
     "execution_count": 71,
     "metadata": {},
     "output_type": "execute_result"
    }
   ],
   "source": [
    "not_covered_ids = [id for id in del_dup_ids if id not in results_df.index]\n",
    "not_covered_ids\n"
   ]
  },
  {
   "cell_type": "code",
   "execution_count": 72,
   "metadata": {},
   "outputs": [
    {
     "data": {
      "text/plain": [
       "2791    29\n",
       "3513    29\n",
       "5259    29\n",
       "6626    29\n",
       "6169    19\n",
       "9263     9\n",
       "8424     6\n",
       "dtype: int64"
      ]
     },
     "execution_count": 72,
     "metadata": {},
     "output_type": "execute_result"
    }
   ],
   "source": [
    "# the number of duplications for each individual\n",
    "(cnsl_calls.loc[not_covered_ids, :] == 3).sum(axis=1).sort_values(ascending=False) \n"
   ]
  },
  {
   "cell_type": "code",
   "execution_count": 73,
   "metadata": {},
   "outputs": [
    {
     "data": {
      "text/plain": [
       "2791    0\n",
       "3513    0\n",
       "5259    0\n",
       "6169    0\n",
       "6626    0\n",
       "8424    0\n",
       "9263    0\n",
       "dtype: int64"
      ]
     },
     "execution_count": 73,
     "metadata": {},
     "output_type": "execute_result"
    }
   ],
   "source": [
    "# the number of deletions for each individual\n",
    "(cnsl_calls.loc[not_covered_ids, :] == 1).sum(axis=1).sort_values(ascending=False)"
   ]
  },
  {
   "cell_type": "markdown",
   "metadata": {},
   "source": [
    "The above two cells show that there are no deletions, only duplications. Also the number of duplications is 1 more or less than the number of probes between the breakpoint, suggesting that one probe had a off-reading. \n",
    "\n",
    "These 7 subjects has all duplications in the given areas except for 1 probe, or in one case the subject has an extra probe that is not within the breakpoints and reported a duplication. The probes that do not report duplications or report an extra duplication are all low coverage probes. I am adding these results to the exact fits, as the factors are missing the boundaries I set by a narrow margin and nationalities also align with the other results."
   ]
  },
  {
   "cell_type": "code",
   "execution_count": 74,
   "metadata": {},
   "outputs": [],
   "source": [
    "# add the individuals with one probe off reading to the results \n",
    "# by matching them with the closest hard-coded region\n",
    "\n",
    "results_2_df = pd.DataFrame({'ethnicity':ethnicities[not_covered_ids], \n",
    "                             'break_points':(cnsl_calls.loc[not_covered_ids,:]==3).sum(axis=1), \n",
    "                             'type':'duplication'})\n",
    "results_2_df['break_points'] = results_2_df.break_points.astype('str')\n",
    "results_2_df.loc[results_2_df.break_points=='29','break_points']='10-40'\n",
    "results_2_df.loc[results_2_df.break_points=='19','break_points']='20-40'\n",
    "results_2_df.loc[results_2_df.break_points=='6','break_points']='32-38'\n",
    "results_2_df.loc[results_2_df.break_points=='9','break_points']='27-34'"
   ]
  },
  {
   "cell_type": "code",
   "execution_count": 75,
   "metadata": {},
   "outputs": [
    {
     "data": {
      "text/html": [
       "<div>\n",
       "<style scoped>\n",
       "    .dataframe tbody tr th:only-of-type {\n",
       "        vertical-align: middle;\n",
       "    }\n",
       "\n",
       "    .dataframe tbody tr th {\n",
       "        vertical-align: top;\n",
       "    }\n",
       "\n",
       "    .dataframe thead th {\n",
       "        text-align: right;\n",
       "    }\n",
       "</style>\n",
       "<table border=\"1\" class=\"dataframe\">\n",
       "  <thead>\n",
       "    <tr style=\"text-align: right;\">\n",
       "      <th></th>\n",
       "      <th>ethnicity</th>\n",
       "      <th>break_points</th>\n",
       "      <th>type</th>\n",
       "    </tr>\n",
       "  </thead>\n",
       "  <tbody>\n",
       "    <tr>\n",
       "      <th>2791</th>\n",
       "      <td>C</td>\n",
       "      <td>10-40</td>\n",
       "      <td>duplication</td>\n",
       "    </tr>\n",
       "    <tr>\n",
       "      <th>3513</th>\n",
       "      <td>C</td>\n",
       "      <td>10-40</td>\n",
       "      <td>duplication</td>\n",
       "    </tr>\n",
       "    <tr>\n",
       "      <th>5259</th>\n",
       "      <td>C</td>\n",
       "      <td>10-40</td>\n",
       "      <td>duplication</td>\n",
       "    </tr>\n",
       "    <tr>\n",
       "      <th>6169</th>\n",
       "      <td>B</td>\n",
       "      <td>20-40</td>\n",
       "      <td>duplication</td>\n",
       "    </tr>\n",
       "    <tr>\n",
       "      <th>6626</th>\n",
       "      <td>C</td>\n",
       "      <td>10-40</td>\n",
       "      <td>duplication</td>\n",
       "    </tr>\n",
       "    <tr>\n",
       "      <th>8424</th>\n",
       "      <td>A</td>\n",
       "      <td>32-38</td>\n",
       "      <td>duplication</td>\n",
       "    </tr>\n",
       "    <tr>\n",
       "      <th>9263</th>\n",
       "      <td>A</td>\n",
       "      <td>27-34</td>\n",
       "      <td>duplication</td>\n",
       "    </tr>\n",
       "  </tbody>\n",
       "</table>\n",
       "</div>"
      ],
      "text/plain": [
       "     ethnicity break_points         type\n",
       "2791         C        10-40  duplication\n",
       "3513         C        10-40  duplication\n",
       "5259         C        10-40  duplication\n",
       "6169         B        20-40  duplication\n",
       "6626         C        10-40  duplication\n",
       "8424         A        32-38  duplication\n",
       "9263         A        27-34  duplication"
      ]
     },
     "execution_count": 75,
     "metadata": {},
     "output_type": "execute_result"
    }
   ],
   "source": [
    "results_2_df"
   ]
  },
  {
   "cell_type": "markdown",
   "metadata": {},
   "source": [
    "Add the new results to the previous ones"
   ]
  },
  {
   "cell_type": "code",
   "execution_count": 76,
   "metadata": {},
   "outputs": [],
   "source": [
    "results = pd.concat([results_df, results_2_df], axis=0)"
   ]
  },
  {
   "cell_type": "code",
   "execution_count": 77,
   "metadata": {},
   "outputs": [
    {
     "data": {
      "text/html": [
       "<div>\n",
       "<style scoped>\n",
       "    .dataframe tbody tr th:only-of-type {\n",
       "        vertical-align: middle;\n",
       "    }\n",
       "\n",
       "    .dataframe tbody tr th {\n",
       "        vertical-align: top;\n",
       "    }\n",
       "\n",
       "    .dataframe thead th {\n",
       "        text-align: right;\n",
       "    }\n",
       "</style>\n",
       "<table border=\"1\" class=\"dataframe\">\n",
       "  <thead>\n",
       "    <tr style=\"text-align: right;\">\n",
       "      <th></th>\n",
       "      <th>ethnicity</th>\n",
       "      <th>break_points</th>\n",
       "      <th>type</th>\n",
       "    </tr>\n",
       "  </thead>\n",
       "  <tbody>\n",
       "    <tr>\n",
       "      <th>1154</th>\n",
       "      <td>C</td>\n",
       "      <td>10-40</td>\n",
       "      <td>deletion</td>\n",
       "    </tr>\n",
       "    <tr>\n",
       "      <th>1874</th>\n",
       "      <td>C</td>\n",
       "      <td>10-40</td>\n",
       "      <td>deletion</td>\n",
       "    </tr>\n",
       "    <tr>\n",
       "      <th>1883</th>\n",
       "      <td>C</td>\n",
       "      <td>10-40</td>\n",
       "      <td>deletion</td>\n",
       "    </tr>\n",
       "    <tr>\n",
       "      <th>2998</th>\n",
       "      <td>C</td>\n",
       "      <td>10-40</td>\n",
       "      <td>deletion</td>\n",
       "    </tr>\n",
       "    <tr>\n",
       "      <th>3004</th>\n",
       "      <td>C</td>\n",
       "      <td>10-40</td>\n",
       "      <td>deletion</td>\n",
       "    </tr>\n",
       "    <tr>\n",
       "      <th>...</th>\n",
       "      <td>...</td>\n",
       "      <td>...</td>\n",
       "      <td>...</td>\n",
       "    </tr>\n",
       "    <tr>\n",
       "      <th>5259</th>\n",
       "      <td>C</td>\n",
       "      <td>10-40</td>\n",
       "      <td>duplication</td>\n",
       "    </tr>\n",
       "    <tr>\n",
       "      <th>6169</th>\n",
       "      <td>B</td>\n",
       "      <td>20-40</td>\n",
       "      <td>duplication</td>\n",
       "    </tr>\n",
       "    <tr>\n",
       "      <th>6626</th>\n",
       "      <td>C</td>\n",
       "      <td>10-40</td>\n",
       "      <td>duplication</td>\n",
       "    </tr>\n",
       "    <tr>\n",
       "      <th>8424</th>\n",
       "      <td>A</td>\n",
       "      <td>32-38</td>\n",
       "      <td>duplication</td>\n",
       "    </tr>\n",
       "    <tr>\n",
       "      <th>9263</th>\n",
       "      <td>A</td>\n",
       "      <td>27-34</td>\n",
       "      <td>duplication</td>\n",
       "    </tr>\n",
       "  </tbody>\n",
       "</table>\n",
       "<p>477 rows × 3 columns</p>\n",
       "</div>"
      ],
      "text/plain": [
       "     ethnicity break_points         type\n",
       "1154         C        10-40     deletion\n",
       "1874         C        10-40     deletion\n",
       "1883         C        10-40     deletion\n",
       "2998         C        10-40     deletion\n",
       "3004         C        10-40     deletion\n",
       "...        ...          ...          ...\n",
       "5259         C        10-40  duplication\n",
       "6169         B        20-40  duplication\n",
       "6626         C        10-40  duplication\n",
       "8424         A        32-38  duplication\n",
       "9263         A        27-34  duplication\n",
       "\n",
       "[477 rows x 3 columns]"
      ]
     },
     "execution_count": 77,
     "metadata": {},
     "output_type": "execute_result"
    }
   ],
   "source": [
    "results"
   ]
  },
  {
   "cell_type": "code",
   "execution_count": 78,
   "metadata": {},
   "outputs": [
    {
     "data": {
      "text/html": [
       "<div>\n",
       "<style scoped>\n",
       "    .dataframe tbody tr th:only-of-type {\n",
       "        vertical-align: middle;\n",
       "    }\n",
       "\n",
       "    .dataframe tbody tr th {\n",
       "        vertical-align: top;\n",
       "    }\n",
       "\n",
       "    .dataframe thead th {\n",
       "        text-align: right;\n",
       "    }\n",
       "</style>\n",
       "<table border=\"1\" class=\"dataframe\">\n",
       "  <thead>\n",
       "    <tr style=\"text-align: right;\">\n",
       "      <th></th>\n",
       "      <th>ethnicity</th>\n",
       "      <th>break_points</th>\n",
       "      <th>type</th>\n",
       "      <th>total</th>\n",
       "    </tr>\n",
       "  </thead>\n",
       "  <tbody>\n",
       "    <tr>\n",
       "      <th>0</th>\n",
       "      <td>A</td>\n",
       "      <td>27-34</td>\n",
       "      <td>deletion</td>\n",
       "      <td>55</td>\n",
       "    </tr>\n",
       "    <tr>\n",
       "      <th>1</th>\n",
       "      <td>A</td>\n",
       "      <td>27-34</td>\n",
       "      <td>duplication</td>\n",
       "      <td>61</td>\n",
       "    </tr>\n",
       "    <tr>\n",
       "      <th>2</th>\n",
       "      <td>A</td>\n",
       "      <td>32-38</td>\n",
       "      <td>deletion</td>\n",
       "      <td>57</td>\n",
       "    </tr>\n",
       "    <tr>\n",
       "      <th>3</th>\n",
       "      <td>A</td>\n",
       "      <td>32-38</td>\n",
       "      <td>duplication</td>\n",
       "      <td>63</td>\n",
       "    </tr>\n",
       "    <tr>\n",
       "      <th>4</th>\n",
       "      <td>B</td>\n",
       "      <td>20-40</td>\n",
       "      <td>deletion</td>\n",
       "      <td>26</td>\n",
       "    </tr>\n",
       "    <tr>\n",
       "      <th>5</th>\n",
       "      <td>B</td>\n",
       "      <td>20-40</td>\n",
       "      <td>duplication</td>\n",
       "      <td>132</td>\n",
       "    </tr>\n",
       "    <tr>\n",
       "      <th>6</th>\n",
       "      <td>C</td>\n",
       "      <td>10-40</td>\n",
       "      <td>deletion</td>\n",
       "      <td>14</td>\n",
       "    </tr>\n",
       "    <tr>\n",
       "      <th>7</th>\n",
       "      <td>C</td>\n",
       "      <td>10-40</td>\n",
       "      <td>duplication</td>\n",
       "      <td>69</td>\n",
       "    </tr>\n",
       "  </tbody>\n",
       "</table>\n",
       "</div>"
      ],
      "text/plain": [
       "  ethnicity break_points         type  total\n",
       "0         A        27-34     deletion     55\n",
       "1         A        27-34  duplication     61\n",
       "2         A        32-38     deletion     57\n",
       "3         A        32-38  duplication     63\n",
       "4         B        20-40     deletion     26\n",
       "5         B        20-40  duplication    132\n",
       "6         C        10-40     deletion     14\n",
       "7         C        10-40  duplication     69"
      ]
     },
     "execution_count": 78,
     "metadata": {},
     "output_type": "execute_result"
    }
   ],
   "source": [
    "results_summary = results.groupby(['ethnicity','break_points','type']).agg(total=('ethnicity', 'count')).reset_index()\n",
    "results_summary"
   ]
  },
  {
   "cell_type": "markdown",
   "metadata": {},
   "source": [
    "Check that all of the 477 subjects that had a duplication or deletion are in the results table"
   ]
  },
  {
   "cell_type": "code",
   "execution_count": 79,
   "metadata": {},
   "outputs": [
    {
     "data": {
      "text/plain": [
       "477"
      ]
     },
     "execution_count": 79,
     "metadata": {},
     "output_type": "execute_result"
    }
   ],
   "source": [
    "results_summary.total.sum()"
   ]
  },
  {
   "cell_type": "markdown",
   "metadata": {},
   "source": [
    "## Summarize and plot results"
   ]
  },
  {
   "cell_type": "code",
   "execution_count": 80,
   "metadata": {},
   "outputs": [],
   "source": [
    "results_summary['ethnicity and break_point'] = results_summary['ethnicity'] + ' at ' + results_summary['break_points']\n",
    "results_summary['ethnicity population'] = results_summary.ethnicity.apply(lambda eth:ethnicity_counts[eth])\n",
    "results_summary['del_dup_frequency'] = results_summary['total']/results_summary['ethnicity population']"
   ]
  },
  {
   "cell_type": "code",
   "execution_count": 81,
   "metadata": {},
   "outputs": [
    {
     "data": {
      "text/html": [
       "<div>\n",
       "<style scoped>\n",
       "    .dataframe tbody tr th:only-of-type {\n",
       "        vertical-align: middle;\n",
       "    }\n",
       "\n",
       "    .dataframe tbody tr th {\n",
       "        vertical-align: top;\n",
       "    }\n",
       "\n",
       "    .dataframe thead th {\n",
       "        text-align: right;\n",
       "    }\n",
       "</style>\n",
       "<table border=\"1\" class=\"dataframe\">\n",
       "  <thead>\n",
       "    <tr style=\"text-align: right;\">\n",
       "      <th></th>\n",
       "      <th>ethnicity</th>\n",
       "      <th>break_points</th>\n",
       "      <th>type</th>\n",
       "      <th>total</th>\n",
       "      <th>ethnicity and break_point</th>\n",
       "      <th>ethnicity population</th>\n",
       "      <th>del_dup_frequency</th>\n",
       "    </tr>\n",
       "  </thead>\n",
       "  <tbody>\n",
       "    <tr>\n",
       "      <th>0</th>\n",
       "      <td>A</td>\n",
       "      <td>27-34</td>\n",
       "      <td>deletion</td>\n",
       "      <td>55</td>\n",
       "      <td>A at 27-34</td>\n",
       "      <td>4988</td>\n",
       "      <td>0.011026</td>\n",
       "    </tr>\n",
       "    <tr>\n",
       "      <th>1</th>\n",
       "      <td>A</td>\n",
       "      <td>27-34</td>\n",
       "      <td>duplication</td>\n",
       "      <td>61</td>\n",
       "      <td>A at 27-34</td>\n",
       "      <td>4988</td>\n",
       "      <td>0.012229</td>\n",
       "    </tr>\n",
       "    <tr>\n",
       "      <th>2</th>\n",
       "      <td>A</td>\n",
       "      <td>32-38</td>\n",
       "      <td>deletion</td>\n",
       "      <td>57</td>\n",
       "      <td>A at 32-38</td>\n",
       "      <td>4988</td>\n",
       "      <td>0.011427</td>\n",
       "    </tr>\n",
       "    <tr>\n",
       "      <th>3</th>\n",
       "      <td>A</td>\n",
       "      <td>32-38</td>\n",
       "      <td>duplication</td>\n",
       "      <td>63</td>\n",
       "      <td>A at 32-38</td>\n",
       "      <td>4988</td>\n",
       "      <td>0.012630</td>\n",
       "    </tr>\n",
       "    <tr>\n",
       "      <th>4</th>\n",
       "      <td>B</td>\n",
       "      <td>20-40</td>\n",
       "      <td>deletion</td>\n",
       "      <td>26</td>\n",
       "      <td>B at 20-40</td>\n",
       "      <td>2543</td>\n",
       "      <td>0.010224</td>\n",
       "    </tr>\n",
       "    <tr>\n",
       "      <th>5</th>\n",
       "      <td>B</td>\n",
       "      <td>20-40</td>\n",
       "      <td>duplication</td>\n",
       "      <td>132</td>\n",
       "      <td>B at 20-40</td>\n",
       "      <td>2543</td>\n",
       "      <td>0.051907</td>\n",
       "    </tr>\n",
       "    <tr>\n",
       "      <th>6</th>\n",
       "      <td>C</td>\n",
       "      <td>10-40</td>\n",
       "      <td>deletion</td>\n",
       "      <td>14</td>\n",
       "      <td>C at 10-40</td>\n",
       "      <td>2469</td>\n",
       "      <td>0.005670</td>\n",
       "    </tr>\n",
       "    <tr>\n",
       "      <th>7</th>\n",
       "      <td>C</td>\n",
       "      <td>10-40</td>\n",
       "      <td>duplication</td>\n",
       "      <td>69</td>\n",
       "      <td>C at 10-40</td>\n",
       "      <td>2469</td>\n",
       "      <td>0.027947</td>\n",
       "    </tr>\n",
       "  </tbody>\n",
       "</table>\n",
       "</div>"
      ],
      "text/plain": [
       "  ethnicity break_points         type  total ethnicity and break_point  \\\n",
       "0         A        27-34     deletion     55                A at 27-34   \n",
       "1         A        27-34  duplication     61                A at 27-34   \n",
       "2         A        32-38     deletion     57                A at 32-38   \n",
       "3         A        32-38  duplication     63                A at 32-38   \n",
       "4         B        20-40     deletion     26                B at 20-40   \n",
       "5         B        20-40  duplication    132                B at 20-40   \n",
       "6         C        10-40     deletion     14                C at 10-40   \n",
       "7         C        10-40  duplication     69                C at 10-40   \n",
       "\n",
       "   ethnicity population  del_dup_frequency  \n",
       "0                  4988           0.011026  \n",
       "1                  4988           0.012229  \n",
       "2                  4988           0.011427  \n",
       "3                  4988           0.012630  \n",
       "4                  2543           0.010224  \n",
       "5                  2543           0.051907  \n",
       "6                  2469           0.005670  \n",
       "7                  2469           0.027947  "
      ]
     },
     "execution_count": 81,
     "metadata": {},
     "output_type": "execute_result"
    }
   ],
   "source": [
    "results_summary"
   ]
  },
  {
   "cell_type": "code",
   "execution_count": 82,
   "metadata": {},
   "outputs": [
    {
     "data": {
      "text/plain": [
       "Text(0, 0.5, 'Frequency')"
      ]
     },
     "execution_count": 82,
     "metadata": {},
     "output_type": "execute_result"
    },
    {
     "data": {
      "image/png": "[encoded data removed]",
      "text/plain": [
       "<Figure size 640x480 with 1 Axes>"
      ]
     },
     "metadata": {},
     "output_type": "display_data"
    }
   ],
   "source": [
    "sns.barplot(data=results_summary, x='ethnicity and break_point', y='del_dup_frequency', hue='type')\n",
    "\n",
    "plt.ylabel('Frequency')"
   ]
  },
  {
   "cell_type": "code",
   "execution_count": 83,
   "metadata": {},
   "outputs": [
    {
     "data": {
      "text/html": [
       "<div>\n",
       "<style scoped>\n",
       "    .dataframe tbody tr th:only-of-type {\n",
       "        vertical-align: middle;\n",
       "    }\n",
       "\n",
       "    .dataframe tbody tr th {\n",
       "        vertical-align: top;\n",
       "    }\n",
       "\n",
       "    .dataframe thead th {\n",
       "        text-align: right;\n",
       "    }\n",
       "</style>\n",
       "<table border=\"1\" class=\"dataframe\">\n",
       "  <thead>\n",
       "    <tr style=\"text-align: right;\">\n",
       "      <th></th>\n",
       "      <th>ethnicity</th>\n",
       "      <th>break_points</th>\n",
       "      <th>type</th>\n",
       "      <th>total</th>\n",
       "      <th>frequency</th>\n",
       "    </tr>\n",
       "  </thead>\n",
       "  <tbody>\n",
       "    <tr>\n",
       "      <th>0</th>\n",
       "      <td>A</td>\n",
       "      <td>27-34</td>\n",
       "      <td>deletion</td>\n",
       "      <td>55</td>\n",
       "      <td>0.011026</td>\n",
       "    </tr>\n",
       "    <tr>\n",
       "      <th>1</th>\n",
       "      <td>A</td>\n",
       "      <td>27-34</td>\n",
       "      <td>duplication</td>\n",
       "      <td>61</td>\n",
       "      <td>0.012229</td>\n",
       "    </tr>\n",
       "    <tr>\n",
       "      <th>2</th>\n",
       "      <td>A</td>\n",
       "      <td>32-38</td>\n",
       "      <td>deletion</td>\n",
       "      <td>57</td>\n",
       "      <td>0.011427</td>\n",
       "    </tr>\n",
       "    <tr>\n",
       "      <th>3</th>\n",
       "      <td>A</td>\n",
       "      <td>32-38</td>\n",
       "      <td>duplication</td>\n",
       "      <td>63</td>\n",
       "      <td>0.012630</td>\n",
       "    </tr>\n",
       "    <tr>\n",
       "      <th>4</th>\n",
       "      <td>B</td>\n",
       "      <td>20-40</td>\n",
       "      <td>deletion</td>\n",
       "      <td>26</td>\n",
       "      <td>0.010224</td>\n",
       "    </tr>\n",
       "    <tr>\n",
       "      <th>5</th>\n",
       "      <td>B</td>\n",
       "      <td>20-40</td>\n",
       "      <td>duplication</td>\n",
       "      <td>132</td>\n",
       "      <td>0.051907</td>\n",
       "    </tr>\n",
       "    <tr>\n",
       "      <th>6</th>\n",
       "      <td>C</td>\n",
       "      <td>10-40</td>\n",
       "      <td>deletion</td>\n",
       "      <td>14</td>\n",
       "      <td>0.005670</td>\n",
       "    </tr>\n",
       "    <tr>\n",
       "      <th>7</th>\n",
       "      <td>C</td>\n",
       "      <td>10-40</td>\n",
       "      <td>duplication</td>\n",
       "      <td>69</td>\n",
       "      <td>0.027947</td>\n",
       "    </tr>\n",
       "  </tbody>\n",
       "</table>\n",
       "</div>"
      ],
      "text/plain": [
       "  ethnicity break_points         type  total  frequency\n",
       "0         A        27-34     deletion     55   0.011026\n",
       "1         A        27-34  duplication     61   0.012229\n",
       "2         A        32-38     deletion     57   0.011427\n",
       "3         A        32-38  duplication     63   0.012630\n",
       "4         B        20-40     deletion     26   0.010224\n",
       "5         B        20-40  duplication    132   0.051907\n",
       "6         C        10-40     deletion     14   0.005670\n",
       "7         C        10-40  duplication     69   0.027947"
      ]
     },
     "execution_count": 83,
     "metadata": {},
     "output_type": "execute_result"
    }
   ],
   "source": [
    "results_summary.iloc[:,[0,1,2,3,6]].rename({'del_dup_frequency':'frequency'}, axis=1)"
   ]
  }
 ],
 "metadata": {
  "kernelspec": {
   "display_name": "Python 3",
   "language": "python",
   "name": "python3"
  },
  "language_info": {
   "codemirror_mode": {
    "name": "ipython",
    "version": 3
   },
   "file_extension": ".py",
   "mimetype": "text/x-python",
   "name": "python",
   "nbconvert_exporter": "python",
   "pygments_lexer": "ipython3",
   "version": "3.10.7"
  }
 },
 "nbformat": 4,
 "nbformat_minor": 2
}
