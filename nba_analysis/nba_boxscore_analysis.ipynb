{
 "cells": [
  {
   "cell_type": "code",
   "execution_count": 1,
   "metadata": {},
   "outputs": [],
   "source": [
    "import pandas as pd\n",
    "import numpy as np\n",
    "import matplotlib.pyplot as plt"
   ]
  },
  {
   "cell_type": "code",
   "execution_count": 2,
   "metadata": {},
   "outputs": [],
   "source": [
    "player_data = pd.read_csv('./Datasets/player_game_data.csv')\n",
    "team_data = pd.read_csv('./Datasets/team_game_data.csv')"
   ]
  },
  {
   "cell_type": "code",
   "execution_count": 3,
   "metadata": {},
   "outputs": [
    {
     "name": "stdout",
     "output_type": "stream",
     "text": [
      "player_name    4\n",
      "dtype: int64\n",
      "0\n"
     ]
    }
   ],
   "source": [
    "print(player_data.isna().sum()[player_data.isna().sum()>0])\n",
    "print(team_data.isna().sum().sum())"
   ]
  },
  {
   "cell_type": "markdown",
   "metadata": {},
   "source": [
    "## Effective field goal percentages"
   ]
  },
  {
   "cell_type": "markdown",
   "metadata": {},
   "source": [
    "$$ EFG\\% = \\frac{FGM + 0.5 * 3PM}{ FGA} $$"
   ]
  },
  {
   "cell_type": "code",
   "execution_count": 4,
   "metadata": {},
   "outputs": [
    {
     "name": "stdout",
     "output_type": "stream",
     "text": [
      "GSW offensive eFG percentage in 2015-2016 regular season is 56.3\n",
      "GSW defensive eFG percentage in 2015-2016 regular season is 47.9\n"
     ]
    }
   ],
   "source": [
    "# split team data to regular season and playoff\n",
    "\n",
    "team_reg = team_data.loc[team_data.gametype == 2, :]\n",
    "team_playoff = team_data.loc[team_data.gametype == 4, :]\n",
    "\n",
    "# calculate offensive and defensive totals for counting stats\n",
    "\n",
    "count_stats = team_data.columns[14:]\n",
    "\n",
    "team_reg_totals = team_reg.groupby(['season', 'off_team'])[count_stats].sum()\n",
    "team_reg_def_totals = team_reg.groupby(['season', 'def_team'])[count_stats].sum()\n",
    "def calc_efg_pct(row):\n",
    "    efg_pct = (row['fgmade'] + 0.5*row['fg3made'])/row['fgattempted']*100\n",
    "    return round(efg_pct, 1)\n",
    "\n",
    "team_reg_totals['eFG'] = team_reg_totals.apply(calc_efg_pct, axis=1)\n",
    "team_reg_def_totals['eFG'] = team_reg_def_totals.apply(calc_efg_pct, axis=1)\n",
    "\n",
    "print('GSW offensive eFG percentage in 2015-2016 regular season is', team_reg_totals.loc[(2015, 'GSW'), 'eFG'])\n",
    "print('GSW defensive eFG percentage in 2015-2016 regular season is', team_reg_def_totals.loc[(2015, 'GSW'), 'eFG'])"
   ]
  },
  {
   "cell_type": "markdown",
   "metadata": {},
   "source": [
    "## Win frequency of the team with higher EFG%"
   ]
  },
  {
   "cell_type": "code",
   "execution_count": 14,
   "metadata": {},
   "outputs": [
    {
     "name": "stdout",
     "output_type": "stream",
     "text": [
      "81.8\n"
     ]
    }
   ],
   "source": [
    "# calculate effective field goal percentage of each team in each game\n",
    "\n",
    "team_reg.loc[:,'eFG'] = team_reg.apply(calc_efg_pct, axis=1)\n",
    "\n",
    "team_reg.loc[:,'eFG'] = team_reg.apply(calc_efg_pct, axis=1)\n",
    "# find the diff for points, offensive rebounds and eFG for the offensive team\n",
    "\n",
    "diff_df = team_reg.groupby('nbagameid')[['points', 'eFG', 'reboffensive']] \\\n",
    "                .apply(lambda x:(x.iloc[0,:] - x.iloc[1,:])) \\\n",
    "                .reset_index() \\\n",
    "                .rename({'points': 'points_diff', 'eFG':'eFG_diff', 'reboffensive':'reboff_diff'}, axis=1) \n",
    "\n",
    "# team with better eFG wins if the signs of points_diff and efG_diff are same\n",
    "\n",
    "higher_eff_win_pct  = diff_df.query('eFG_diff != 0') \\\n",
    "                            .assign(p=lambda x:(x['points_diff']>0) ==  (x['eFG_diff'] > 0)) \\\n",
    "                            .p.mean()\n",
    "        \n",
    "print(round(100*higher_eff_win_pct, 1))\n"
   ]
  },
  {
   "cell_type": "markdown",
   "metadata": {},
   "source": [
    "## Win Frequency of teams with more offensive rebounds"
   ]
  },
  {
   "cell_type": "code",
   "execution_count": 6,
   "metadata": {},
   "outputs": [
    {
     "name": "stdout",
     "output_type": "stream",
     "text": [
      "46.2\n"
     ]
    }
   ],
   "source": [
    "# team with better eFG wins if the signs of points_diff and reboff_diff are same\n",
    "higher_reboff_win_pct  = diff_df.query('reboff_diff != 0') \\\n",
    "                            .assign(p=lambda x:(x['points_diff'] > 0) == (x['reboff_diff'] > 0)) \\\n",
    "                            .p.mean()\n",
    "        \n",
    "print(round(100*higher_reboff_win_pct, 1))\n"
   ]
  },
  {
   "cell_type": "markdown",
   "metadata": {},
   "source": [
    "## Percentage of games players are available"
   ]
  },
  {
   "cell_type": "code",
   "execution_count": 7,
   "metadata": {},
   "outputs": [
    {
     "name": "stdout",
     "output_type": "stream",
     "text": [
      "82.9\n"
     ]
    }
   ],
   "source": [
    "# Add flags for whether player played in the game and whether he is available\n",
    "player_data['played'] = (player_data.seconds > 0)\n",
    "player_data['available'] = 1 - player_data.missed\n",
    "\n",
    "# dataframes for regular season and playoff games\n",
    "player_reg = player_data.loc[player_data.gametype == 2, :]\n",
    "player_playoff = player_data.loc[player_data.gametype == 4, :]\n",
    "\n",
    "# calculate regular season totals for games played, points and percentage of available games \n",
    "player_availablity = player_reg.groupby(['season', 'player_name']) \\\n",
    "                                .agg(available_pct=('available', 'mean'),\n",
    "                                     total_points = ('points', 'sum'),\n",
    "                                     total_played=('played', 'sum'),\n",
    "                                     )  \\\n",
    "                                .reset_index()\n",
    "                                \n",
    "# Add points per game\n",
    "player_availablity['ppg'] = player_availablity['total_points']/player_availablity['total_played']\n",
    "\n",
    "# Apply the constraints\n",
    "available_pct = player_availablity.query('ppg > 25 & available_pct >= 0.25') \\\n",
    "                                   .available_pct \\\n",
    "                                   .mean()\n",
    "\n",
    "# Calculate the mean available game percentage per season\n",
    "print(round(100*available_pct, 1))\n"
   ]
  },
  {
   "cell_type": "markdown",
   "metadata": {},
   "source": [
    "## home court team winning percentage in playoffs by round"
   ]
  },
  {
   "cell_type": "code",
   "execution_count": null,
   "metadata": {},
   "outputs": [],
   "source": [
    "# sort by gamedate, to identify first and last games of a playoff series\n",
    "team_playoff = team_playoff.sort_values(by=['gamedate'])\n",
    "\n",
    "# keep one row for each game, and keep relevant columns\n",
    "team_playoff = team_playoff.drop_duplicates(subset='nbagameid') \\\n",
    "                            .loc[:,['season', 'gamedate', 'off_team', 'def_team', 'off_home', 'off_win']]\n",
    "\n",
    "# create a new column for playoff series name containing team names and year\n",
    "def create_series_name(row):\n",
    "    teams = sorted([row['off_team'], row['def_team']])\n",
    "    return teams[0] + teams[1] + str(row['season'])\n",
    "\n",
    "team_playoff['series_name'] = team_playoff.apply(create_series_name, axis = 1)\n",
    "\n",
    "# create a column for the winner team name fof each game\n",
    "def winner(row):\n",
    "    if row['off_win'] == 1:\n",
    "        return row['off_team']\n",
    "    else:\n",
    "        return row['def_team']\n",
    "\n",
    "team_playoff['winner'] = team_playoff.apply(winner, axis = 1)\n",
    "\n",
    "# use first games to identify home court advantage and rounds\n",
    "first_games = team_playoff.drop_duplicates('series_name')\n",
    "\n",
    "# the first 8 games each playoff are round 1, next 4 are round 2, next 2 are conference finals, next one is Finals\n",
    "rounds_season = ['Round 1']*8 + ['Round 2']*4 + ['Conference Finals']*2 + ['Finals']\n",
    "first_games['Round'] = 19 * rounds_season\n",
    "\n",
    "# home side on first game has home court advantage\n",
    "def home_court_ad(row):\n",
    "    if row['off_home'] == 1:\n",
    "        return row['off_team']\n",
    "    else:\n",
    "        return row['def_team']\n",
    "\n",
    "first_games['home_court_advantage'] = first_games.apply(home_court_ad, axis=1)\n",
    "\n",
    "# summarize info\n",
    "playoff_summary = first_games[['series_name', 'season', 'off_team', 'def_team','Round', 'home_court_advantage']]\n",
    "\n",
    "# winnner of last game is series winner\n",
    "series_winners = team_playoff.drop_duplicates(subset='series_name', keep='last')[['series_name', 'winner']] \\\n",
    "                            .rename({'winner':'series_winner'}, axis = 1)\n",
    "\n",
    "playoff_summary = pd.merge(playoff_summary, series_winners, on='series_name')\n",
    "\n",
    "# check whether home team wins\n",
    "playoff_summary['home_court_ad_wins'] = \\\n",
    "    (playoff_summary['home_court_advantage'] == playoff_summary['series_winner'])\n",
    "\n",
    "\n"
   ]
  },
  {
   "cell_type": "code",
   "execution_count": 15,
   "metadata": {},
   "outputs": [
    {
     "data": {
      "text/html": [
       "<div>\n",
       "<style scoped>\n",
       "    .dataframe tbody tr th:only-of-type {\n",
       "        vertical-align: middle;\n",
       "    }\n",
       "\n",
       "    .dataframe tbody tr th {\n",
       "        vertical-align: top;\n",
       "    }\n",
       "\n",
       "    .dataframe thead th {\n",
       "        text-align: right;\n",
       "    }\n",
       "</style>\n",
       "<table border=\"1\" class=\"dataframe\">\n",
       "  <thead>\n",
       "    <tr style=\"text-align: right;\">\n",
       "      <th></th>\n",
       "      <th>win_pct</th>\n",
       "    </tr>\n",
       "    <tr>\n",
       "      <th>Round</th>\n",
       "      <th></th>\n",
       "    </tr>\n",
       "  </thead>\n",
       "  <tbody>\n",
       "    <tr>\n",
       "      <th>Conference Finals</th>\n",
       "      <td>0.555556</td>\n",
       "    </tr>\n",
       "    <tr>\n",
       "      <th>Finals</th>\n",
       "      <td>0.777778</td>\n",
       "    </tr>\n",
       "    <tr>\n",
       "      <th>Round 1</th>\n",
       "      <td>0.847222</td>\n",
       "    </tr>\n",
       "    <tr>\n",
       "      <th>Round 2</th>\n",
       "      <td>0.638889</td>\n",
       "    </tr>\n",
       "  </tbody>\n",
       "</table>\n",
       "</div>"
      ],
      "text/plain": [
       "                    win_pct\n",
       "Round                      \n",
       "Conference Finals  0.555556\n",
       "Finals             0.777778\n",
       "Round 1            0.847222\n",
       "Round 2            0.638889"
      ]
     },
     "execution_count": 15,
     "metadata": {},
     "output_type": "execute_result"
    }
   ],
   "source": [
    "# report average number of wins per round between 2014-2023\n",
    "playoff_summary.loc[playoff_summary.season.isin(range(2014, 2024)), :] \\\n",
    "                .groupby('Round') \\\n",
    "                .agg(win_pct=('home_court_ad_wins', 'mean'))\n"
   ]
  },
  {
   "cell_type": "markdown",
   "metadata": {},
   "source": [
    "### teams with +5 rating in regular season for each season 2014-2021"
   ]
  },
  {
   "cell_type": "code",
   "execution_count": 9,
   "metadata": {},
   "outputs": [],
   "source": [
    "def calc_rtg(points, possessions):\n",
    "    rtg = points / possessions\n",
    "    return round(100*rtg, 2)\n",
    "\n",
    "team_reg_totals['ORTG'] = team_reg_totals.apply(lambda row:calc_rtg(row['points'], row['possessions']), axis=1)\n",
    "team_reg_totals['DRTG'] = team_reg_def_totals.apply(lambda row:calc_rtg(row['points'], row['possessions']), axis=1)\n",
    "\n",
    "team_reg_totals['netRTG'] = team_reg_totals['ORTG'] - team_reg_totals['DRTG']\n",
    "\n",
    "teams_plus5_net_rtg = team_reg_totals.query('netRTG >= 5')[['netRTG' ]]"
   ]
  },
  {
   "cell_type": "markdown",
   "metadata": {},
   "source": [
    "### teams that make second round"
   ]
  },
  {
   "cell_type": "code",
   "execution_count": 10,
   "metadata": {},
   "outputs": [
    {
     "name": "stdout",
     "output_type": "stream",
     "text": [
      "Percentage of teams with +5 or more net rating that made the second round in the playoffs the following season is 53.8\n"
     ]
    }
   ],
   "source": [
    "# get a list of round 2 teams by combining offensive and defensive teams in playoff_summary\n",
    "\n",
    "round2_teams =pd.concat([playoff_summary[['season', 'off_team', 'Round', 'series_name']].rename({'off_team':'team'}, axis=1),\n",
    "                        playoff_summary[['season', 'def_team', 'Round', 'series_name']].rename({'def_team':'team'}, axis=1)\n",
    "                        ], axis=0) \\\n",
    "                        .query('Round == \"Round 2\"') \\\n",
    "                        .rename({'season':'playoff_season'}, axis=1)\n",
    "teams_plus5_net_rtg = teams_plus5_net_rtg.reset_index().rename({'off_team':'team'}, axis=1)\n",
    "teams_plus5_net_rtg['playoff_season'] = teams_plus5_net_rtg['season'] + 1\n",
    "\n",
    "round2_teams_plus5_net_rtg = pd.merge(round2_teams, \n",
    "                                        teams_plus5_net_rtg, \n",
    "                                        how='inner', \n",
    "                                        on = ['playoff_season', 'team'])\n",
    "\n",
    "#round2_teams_plus5_net_rtg = round2_teams_plus5_net_rtg.drop(['next_season'], axis=1)\n",
    "\n",
    "second_round_pct = round(100*len(round2_teams_plus5_net_rtg)/len(teams_plus5_net_rtg), 1)\n",
    "print(f'Percentage of teams with +5 or more net rating that made the second round \\\n",
    "in the playoffs the following season is {second_round_pct}')"
   ]
  },
  {
   "cell_type": "code",
   "execution_count": 11,
   "metadata": {},
   "outputs": [
    {
     "data": {
      "text/plain": [
       "39"
      ]
     },
     "execution_count": 11,
     "metadata": {},
     "output_type": "execute_result"
    }
   ],
   "source": [
    "pd.merge(round2_teams, teams_plus5_net_rtg, how='inner', on = ['playoff_season', 'team']).shape[0]\n",
    "len(teams_plus5_net_rtg)"
   ]
  },
  {
   "cell_type": "markdown",
   "metadata": {},
   "source": [
    "## top 5 players from each team with most minutes in regular season"
   ]
  },
  {
   "cell_type": "code",
   "execution_count": 12,
   "metadata": {},
   "outputs": [],
   "source": [
    "# filter regular season games\n",
    "player_min_reg = player_data.loc[(player_data.gametype==2) & (player_data.season.isin(range(2014,2022))), ['season', 'team', 'player_name', 'seconds']]\n",
    "\n",
    "# calculate total for time played\n",
    "player_min_totals = player_min_reg.groupby(['season', 'team', 'player_name']) \\\n",
    "                                .agg(total_secs = ('seconds', 'sum'))  \\\n",
    "                                .reset_index()\n",
    "\n",
    "# get top 5 players for each season team combination                                \n",
    "player_min_top_5 = player_min_totals.sort_values('total_secs', ascending=False) \\\n",
    "                                .groupby(['season', 'team']) \\\n",
    "                                .head(5) \\\n",
    "                                .sort_values(by=['season', 'team'])\n",
    "\n",
    "# create column to merge with playoff data\n",
    "player_min_top_5['playoff_season'] = player_min_top_5['season'] + 1\n",
    "\n",
    "# add the following year's playoff series information\n",
    "player_min_top_5 = pd.merge(player_min_top_5, \n",
    "                            round2_teams_plus5_net_rtg, \n",
    "                            on=['playoff_season', 'team']\n",
    "                            )\n",
    "                \n",
    "\n",
    "# player_min_totals.set_index(['player_name']) \\\n",
    "#                     .groupby(['season', 'team']) \\\n",
    "#                     ['total_secs'] \\\n",
    "#                     .nlargest(5) \\\n",
    "#                     .reset_index()\n",
    "\n",
    "# player_min_totals.groupby(['season', 'team']) \\\n",
    "#                     .apply(lambda x:x[['player_name', 'total_secs']].sort_values('total_secs', ascending=False).head(5)) \\\n",
    "#                     .reset_index() \\\n",
    "#                     .drop('level_2', axis=1)"
   ]
  },
  {
   "cell_type": "markdown",
   "metadata": {},
   "source": [
    "## round 2 players"
   ]
  },
  {
   "cell_type": "code",
   "execution_count": 13,
   "metadata": {},
   "outputs": [
    {
     "name": "stdout",
     "output_type": "stream",
     "text": [
      "Percentage of players with top five minutes who played in round 2 of playoffs next year is 78.1\n"
     ]
    }
   ],
   "source": [
    "# create a new column for playoff series name containing team names and year\n",
    "player_playoff = player_playoff.rename({'team':'off_team', 'opp_team':'def_team'}, axis=1)\n",
    "\n",
    "player_playoff['series_name'] = player_playoff.apply(create_series_name, axis = 1)\n",
    "# Find players who played in the playoffs, with total seconds > 0\n",
    "\n",
    "player_playoff = player_playoff[['player_name', 'seconds', 'series_name', 'off_team']] \\\n",
    "                        .groupby(['series_name',  'player_name', 'off_team']) \\\n",
    "                        .agg(total_time = ('seconds', 'sum')) \\\n",
    "                        .reset_index() \\\n",
    "                        .query('total_time>0') \\\n",
    "                        .rename({'off_team':'team'}, axis=1)\n",
    "\n",
    "qualified_players = pd.merge(player_playoff, player_min_top_5, on=['series_name', 'player_name', 'team'])  \\\n",
    "                        .sort_values(['series_name'])\n",
    "\n",
    "qualified_players_pct = round(100*len(qualified_players)/len(player_min_top_5), 1)\n",
    "print(f'Percentage of players with top five minutes who played in round 2 of playoffs next year is {qualified_players_pct}')"
   ]
  }
 ],
 "metadata": {
  "kernelspec": {
   "display_name": "Python 3",
   "language": "python",
   "name": "python3"
  },
  "language_info": {
   "codemirror_mode": {
    "name": "ipython",
    "version": 3
   },
   "file_extension": ".py",
   "mimetype": "text/x-python",
   "name": "python",
   "nbconvert_exporter": "python",
   "pygments_lexer": "ipython3",
   "version": "3.10.7"
  }
 },
 "nbformat": 4,
 "nbformat_minor": 2
}
